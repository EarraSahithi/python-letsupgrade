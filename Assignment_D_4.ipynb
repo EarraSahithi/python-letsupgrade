{
  "nbformat": 4,
  "nbformat_minor": 0,
  "metadata": {
    "colab": {
      "name": "Assignment D-4.ipynb",
      "provenance": [],
      "authorship_tag": "ABX9TyP/QW2baEue8xlI20ThBiDI",
      "include_colab_link": true
    },
    "kernelspec": {
      "name": "python3",
      "display_name": "Python 3"
    }
  },
  "cells": [
    {
      "cell_type": "markdown",
      "metadata": {
        "id": "view-in-github",
        "colab_type": "text"
      },
      "source": [
        "<a href=\"https://colab.research.google.com/github/EarraSahithi/python-letsupgrade/blob/master/Assignment_D_4.ipynb\" target=\"_parent\"><img src=\"https://colab.research.google.com/assets/colab-badge.svg\" alt=\"Open In Colab\"/></a>"
      ]
    },
    {
      "cell_type": "code",
      "metadata": {
        "id": "ZWK2blveAdC6",
        "colab_type": "code",
        "colab": {
          "base_uri": "https://localhost:8080/",
          "height": 34
        },
        "outputId": "397c372c-adfd-47e9-d8e3-6a25f0ebe8b6"
      },
      "source": [
        "upper=702648265\n",
        "lower=1042000\n",
        "for num in range (lower,upper+1):\n",
        "  x=len(str(num))\n",
        "  sum=0\n",
        "  temp=num\n",
        "  while temp > 0:\n",
        "    y=temp % 10\n",
        "    sum += y ** x\n",
        "    temp //= 10\n",
        "  if num==sum:\n",
        "    print(sum)\n",
        "    break"
      ],
      "execution_count": null,
      "outputs": [
        {
          "output_type": "stream",
          "text": [
            "1741725\n"
          ],
          "name": "stdout"
        }
      ]
    }
  ]
}