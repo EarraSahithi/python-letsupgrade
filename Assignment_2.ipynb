{
  "nbformat": 4,
  "nbformat_minor": 0,
  "metadata": {
    "colab": {
      "name": "Assignment 2.ipynb",
      "provenance": [],
      "authorship_tag": "ABX9TyOfnp35FW+QcdHXyoQnwo/k",
      "include_colab_link": true
    },
    "kernelspec": {
      "name": "python3",
      "display_name": "Python 3"
    }
  },
  "cells": [
    {
      "cell_type": "markdown",
      "metadata": {
        "id": "view-in-github",
        "colab_type": "text"
      },
      "source": [
        "<a href=\"https://colab.research.google.com/github/EarraSahithi/python-letsupgrade/blob/master/Assignment_2.ipynb\" target=\"_parent\"><img src=\"https://colab.research.google.com/assets/colab-badge.svg\" alt=\"Open In Colab\"/></a>"
      ]
    },
    {
      "cell_type": "code",
      "metadata": {
        "id": "_xRI-N8pYs5C",
        "colab_type": "code",
        "colab": {
          "base_uri": "https://localhost:8080/",
          "height": 51
        },
        "outputId": "45a76442-f3e0-4a44-c588-4611d7ba08f1"
      },
      "source": [
        "alt=int(input(\"enter the altitude required for the plane -\"))\n",
        "if alt<=1000:\n",
        "  print(\"safe to land\")\n",
        "elif alt>1000:\n",
        "   print(\"bring down to thousand\")\n",
        "elif alt <=5000:\n",
        "  print(\"bring down to thousand\")\n",
        "else:\n",
        "  print(\"turn around\")"
      ],
      "execution_count": null,
      "outputs": [
        {
          "output_type": "stream",
          "text": [
            "enter the altitude required for the plane -1000\n",
            "safe to land\n"
          ],
          "name": "stdout"
        }
      ]
    },
    {
      "cell_type": "code",
      "metadata": {
        "id": "EhlMCKgvdp27",
        "colab_type": "code",
        "colab": {
          "base_uri": "https://localhost:8080/",
          "height": 54
        },
        "outputId": "b02a6593-704f-4ed8-e606-7781f9bcb730"
      },
      "source": [
        "for num in range(1,201):\n",
        "  count=0\n",
        "  for i in range(2,(num//2+1)):\n",
        "    if(num%i==0):\n",
        "      count=count+1\n",
        "      break\n",
        "  if (count==0 and num!=1):\n",
        "    print(\"%d\"%num,end='  ')"
      ],
      "execution_count": null,
      "outputs": [
        {
          "output_type": "stream",
          "text": [
            "2  3  5  7  11  13  17  19  23  29  31  37  41  43  47  53  59  61  67  71  73  79  83  89  97  101  103  107  109  113  127  131  137  139  149  151  157  163  167  173  179  181  191  193  197  199  "
          ],
          "name": "stdout"
        }
      ]
    }
  ]
}